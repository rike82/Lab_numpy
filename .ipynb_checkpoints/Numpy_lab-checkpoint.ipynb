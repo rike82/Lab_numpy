{
 "cells": [
  {
   "cell_type": "code",
   "execution_count": 3,
   "id": "f43012d5-34fa-41f9-88de-3b6334c82cc6",
   "metadata": {},
   "outputs": [],
   "source": [
    "# 1. Import the numpy package under the name `np` (★☆☆)\n",
    "import numpy as np"
   ]
  },
  {
   "cell_type": "code",
   "execution_count": 7,
   "id": "710c45ba-3bd6-450a-b741-13e4eb9dcc63",
   "metadata": {},
   "outputs": [
    {
     "data": {
      "text/plain": [
       "array([0., 0., 0., 0., 0., 0., 0., 0., 0., 0.])"
      ]
     },
     "execution_count": 7,
     "metadata": {},
     "output_type": "execute_result"
    }
   ],
   "source": [
    "# 2. Create a null vector of size 10 (★☆☆)\n",
    "null_vector = np.zeros(10)\n",
    "null_vector"
   ]
  },
  {
   "cell_type": "code",
   "execution_count": 11,
   "id": "1d73227f-005d-47fc-99e3-1410ed115aea",
   "metadata": {},
   "outputs": [
    {
     "data": {
      "text/plain": [
       "array([0., 0., 0., 0., 1., 0., 0., 0., 0., 0.])"
      ]
     },
     "execution_count": 11,
     "metadata": {},
     "output_type": "execute_result"
    }
   ],
   "source": [
    "# 3. Create a null vector of size 10 but the fifth value which is 1 (★☆☆)\n",
    "null_vector[4] = 1\n",
    "null_vector"
   ]
  },
  {
   "cell_type": "code",
   "execution_count": 15,
   "id": "836c22f0-3012-449e-8dfb-e200de93499b",
   "metadata": {},
   "outputs": [
    {
     "data": {
      "text/plain": [
       "array([10, 11, 12, 13, 14, 15, 16, 17, 18, 19, 20, 21, 22, 23, 24, 25, 26,\n",
       "       27, 28, 29, 30, 31, 32, 33, 34, 35, 36, 37, 38, 39, 40, 41, 42, 43,\n",
       "       44, 45, 46, 47, 48, 49])"
      ]
     },
     "execution_count": 15,
     "metadata": {},
     "output_type": "execute_result"
    }
   ],
   "source": [
    "# 4. Create a vector with values ranging from 10 to 49 (★☆☆)\n",
    "value_vector = np.arange(10, 50)\n",
    "value_vector"
   ]
  },
  {
   "cell_type": "code",
   "execution_count": 17,
   "id": "f4815ca8-8400-4c26-ba7f-5c2d0866b820",
   "metadata": {},
   "outputs": [
    {
     "data": {
      "text/plain": [
       "array([[0, 1, 2],\n",
       "       [3, 4, 5],\n",
       "       [6, 7, 8]])"
      ]
     },
     "execution_count": 17,
     "metadata": {},
     "output_type": "execute_result"
    }
   ],
   "source": [
    "# 5. Create a 3x3 matrix with values ranging from 0 to 8 (★☆☆)\n",
    "matrix= np.arange(0, 9).reshape((3, 3))\n",
    "matrix"
   ]
  },
  {
   "cell_type": "code",
   "execution_count": 23,
   "id": "01f1eeb9-5001-44a3-b75c-7bbf42b1ce18",
   "metadata": {},
   "outputs": [
    {
     "data": {
      "text/plain": [
       "(array([0, 1, 4], dtype=int64),)"
      ]
     },
     "execution_count": 23,
     "metadata": {},
     "output_type": "execute_result"
    }
   ],
   "source": [
    "# 6. Find indices of non-zero elements from [1,2,0,0,4,0] (★☆☆)\n",
    "array = [1,2,0,0,4,0] \n",
    "nonzeros = np.nonzero(array)\n",
    "nonzeros"
   ]
  },
  {
   "cell_type": "code",
   "execution_count": 25,
   "id": "1f9eec42-6ba9-4d55-84c0-ac3e0829b7cf",
   "metadata": {},
   "outputs": [
    {
     "data": {
      "text/plain": [
       "array([[1., 0., 0.],\n",
       "       [0., 1., 0.],\n",
       "       [0., 0., 1.]])"
      ]
     },
     "execution_count": 25,
     "metadata": {},
     "output_type": "execute_result"
    }
   ],
   "source": [
    "# 7. Create a 3x3 identity matrix (★☆☆)\n",
    "identity = np.eye(3)\n",
    "identity"
   ]
  },
  {
   "cell_type": "code",
   "execution_count": 49,
   "id": "3748f3d2-85d4-4890-8eb5-1b13ea510b83",
   "metadata": {},
   "outputs": [
    {
     "data": {
      "text/plain": [
       "array([[[0.79011707, 0.84638681, 0.05718695],\n",
       "        [0.54185198, 0.72853544, 0.36743399],\n",
       "        [0.06004025, 0.60347226, 0.87724533]],\n",
       "\n",
       "       [[0.90767427, 0.77063626, 0.3620912 ],\n",
       "        [0.97775776, 0.50703771, 0.69594281],\n",
       "        [0.57506453, 0.32890577, 0.22662628]],\n",
       "\n",
       "       [[0.29327621, 0.26885447, 0.24902164],\n",
       "        [0.37740551, 0.56827259, 0.26104513],\n",
       "        [0.03363957, 0.52875804, 0.95459474]]])"
      ]
     },
     "execution_count": 49,
     "metadata": {},
     "output_type": "execute_result"
    }
   ],
   "source": [
    "# 8. Create a 3x3x3 array with random values (★☆☆)\n",
    "random_val = np.random.random((3,3,3))\n",
    "random_val"
   ]
  },
  {
   "cell_type": "code",
   "execution_count": 47,
   "id": "15b82879-e330-46a6-b4f2-80f3b2719a1b",
   "metadata": {},
   "outputs": [
    {
     "name": "stdout",
     "output_type": "stream",
     "text": [
      "[[0.17505683 0.69008883 0.9916825  0.92902577 0.78880052 0.09510216\n",
      "  0.99280265 0.49494584 0.48939757 0.11872071]\n",
      " [0.34858183 0.98597802 0.14168295 0.40312601 0.14974126 0.45649047\n",
      "  0.92644256 0.79417894 0.37562744 0.08743522]\n",
      " [0.02762779 0.44246508 0.8614422  0.44933199 0.5051445  0.61852937\n",
      "  0.53081844 0.98687833 0.08367478 0.1748767 ]\n",
      " [0.03877727 0.32796669 0.30490198 0.36784444 0.07920757 0.77920559\n",
      "  0.52219038 0.39114041 0.76968905 0.993757  ]\n",
      " [0.07899454 0.45896801 0.22272982 0.3543089  0.88898751 0.8539463\n",
      "  0.96876194 0.64251901 0.35924128 0.48212591]\n",
      " [0.85925181 0.14113905 0.1395239  0.76708541 0.9647201  0.53764784\n",
      "  0.81467598 0.42277939 0.45183383 0.87307958]\n",
      " [0.8921482  0.31532077 0.50640027 0.52887995 0.44438178 0.69116042\n",
      "  0.25522611 0.01747413 0.09467595 0.88316419]\n",
      " [0.35123742 0.8898823  0.33097675 0.51715879 0.76278726 0.78936091\n",
      "  0.24379417 0.92148311 0.06242347 0.12512856]\n",
      " [0.76066918 0.98496307 0.35463172 0.03225648 0.85851807 0.18867296\n",
      "  0.04789298 0.54776776 0.78088802 0.28273978]\n",
      " [0.58377245 0.7623779  0.3211233  0.86683186 0.27953256 0.33933219\n",
      "  0.89286601 0.94681899 0.85046753 0.08473833]]\n",
      "0.017474125337064272 0.9937569987787425\n"
     ]
    }
   ],
   "source": [
    "# 9. Create a 10x10 array with random values and find the minimum and maximum values (★☆☆)\n",
    "rand_val10 = np.random.random((10,10))\n",
    "print(rand_val10)\n",
    "print(rand_val10.min(), rand_val10.max())"
   ]
  },
  {
   "cell_type": "code",
   "execution_count": 59,
   "id": "4b2f5e25-dd45-46c9-92da-edf20b596d7b",
   "metadata": {},
   "outputs": [
    {
     "name": "stdout",
     "output_type": "stream",
     "text": [
      "0.555755253439545\n",
      "0.555755253439545\n"
     ]
    }
   ],
   "source": [
    "# 10. Create a random vector of size 30 and find the mean value (★☆☆)\n",
    "vector30 = np.random.random(30)\n",
    "avg = np.mean(vector30)\n",
    "avg2 = vector30.mean()\n",
    "print(avg2)\n",
    "print(avg)"
   ]
  },
  {
   "cell_type": "code",
   "execution_count": 69,
   "id": "e46944d9-50a9-45b6-b5c5-818c6052d9b0",
   "metadata": {},
   "outputs": [
    {
     "data": {
      "text/plain": [
       "array([[0, 0, 0, 0, 0],\n",
       "       [1, 0, 0, 0, 0],\n",
       "       [0, 2, 0, 0, 0],\n",
       "       [0, 0, 3, 0, 0],\n",
       "       [0, 0, 0, 4, 0]])"
      ]
     },
     "execution_count": 69,
     "metadata": {},
     "output_type": "execute_result"
    }
   ],
   "source": [
    "# 11. Create a 5x5 matrix with values 1,2,3,4 just below the diagonal (★☆☆)\n",
    "matrix2 = np.diag([1,2,3,4],k = -1)\n",
    "matrix2"
   ]
  },
  {
   "cell_type": "code",
   "execution_count": 83,
   "id": "5302860a-a2c4-42da-9cb6-3666eea98bc3",
   "metadata": {},
   "outputs": [
    {
     "data": {
      "text/plain": [
       "array([[0.76362299, 0.75514523, 0.88837046, 0.53938417, 0.90164044],\n",
       "       [0.45884137, 0.28675984, 0.70331356, 0.64460585, 0.98678543],\n",
       "       [0.24652441, 0.55536594, 0.70751723, 0.64245393, 0.33567616],\n",
       "       [0.19409799, 0.41011677, 0.35820741, 0.04633258, 0.91491617],\n",
       "       [0.87253981, 0.30109282, 0.25190453, 0.17698043, 0.29155503]])"
      ]
     },
     "execution_count": 83,
     "metadata": {},
     "output_type": "execute_result"
    }
   ],
   "source": [
    "# 12. Normalize a 5x5 random matrix (★☆☆)\n",
    "rand_val5 = np.random.rand(5,5)\n",
    "rand_val5"
   ]
  },
  {
   "cell_type": "code",
   "execution_count": 89,
   "id": "7dc90ea2-5e6a-4867-ae50-069dab094333",
   "metadata": {},
   "outputs": [
    {
     "data": {
      "text/plain": [
       "array([[-0.04615045,  0.58876673,  2.20126368,  0.52534087,  2.08543038],\n",
       "       [-2.38667948, -1.39398968,  1.15905934,  0.88277544,  2.42505387],\n",
       "       [-4.01713871, -0.25693357,  1.1827336 ,  0.87546545, -0.17206887],\n",
       "       [-4.41974031, -0.87179843, -0.78451107, -1.14953905,  2.13838417],\n",
       "       [ 0.7902615 , -1.33331569, -1.38318817, -0.70573262, -0.34805771]])"
      ]
     },
     "execution_count": 89,
     "metadata": {},
     "output_type": "execute_result"
    }
   ],
   "source": [
    "z_score = (rand_val5 - np.mean(rand_val5, axis = 1))/np.std(rand_val5, axis = 1)\n",
    "z_score"
   ]
  },
  {
   "cell_type": "code",
   "execution_count": 93,
   "id": "660ba11f-f759-4e0d-bf7d-e8798da87b00",
   "metadata": {},
   "outputs": [
    {
     "data": {
      "text/plain": [
       "array([2, 4, 6])"
      ]
     },
     "execution_count": 93,
     "metadata": {},
     "output_type": "execute_result"
    }
   ],
   "source": [
    "# 13. How to find common values between two arrays? (★☆☆)\n",
    "arr1 = [0,1,2,3,4,6]\n",
    "arr2 = [2,4,6,8,]\n",
    "common_nums = np.intersect1d(arr1, arr2)\n",
    "common_nums"
   ]
  },
  {
   "cell_type": "code",
   "execution_count": 95,
   "id": "1a352d78-3ae0-4547-ab9b-1f18b005f65a",
   "metadata": {},
   "outputs": [],
   "source": [
    "# 14. Create a random vector of size 10 and sort it (★★☆)\n",
    "vect10 = np.random.random(10)"
   ]
  },
  {
   "cell_type": "code",
   "execution_count": 101,
   "id": "a7d55955-cf88-4236-ab18-1877686392b4",
   "metadata": {},
   "outputs": [
    {
     "data": {
      "text/plain": [
       "array([0.09070597, 0.15360567, 0.22805673, 0.29948779, 0.65934824,\n",
       "       0.80157566, 0.91950459, 0.94616685, 0.96432425, 0.99222492])"
      ]
     },
     "execution_count": 101,
     "metadata": {},
     "output_type": "execute_result"
    }
   ],
   "source": [
    "vect10_sorted = np.sort(vect10)\n",
    "vect10_sorted"
   ]
  },
  {
   "cell_type": "code",
   "execution_count": 165,
   "id": "0e027225-b1c5-4896-af40-6ff858c3bd37",
   "metadata": {},
   "outputs": [
    {
     "data": {
      "text/plain": [
       "array([0.29783876, 0.38933722, 0.98284662, 0.93809355, 0.57057951,\n",
       "       0.07680165, 0.26817634, 0.82181381, 0.67892501, 0.35665365])"
      ]
     },
     "execution_count": 165,
     "metadata": {},
     "output_type": "execute_result"
    }
   ],
   "source": [
    "# 15. Create a second random vector of size 10 and replace the maximum value by 0 (★★☆)\n",
    "vect2with10 = np.random.random(10)\n",
    "vect2with10"
   ]
  },
  {
   "cell_type": "code",
   "execution_count": 167,
   "id": "bcb5fc58-d774-45c5-9801-ca2845c5a217",
   "metadata": {},
   "outputs": [
    {
     "data": {
      "text/plain": [
       "array([0.29783876, 0.38933722, 0.        , 0.93809355, 0.57057951,\n",
       "       0.07680165, 0.26817634, 0.82181381, 0.67892501, 0.35665365])"
      ]
     },
     "execution_count": 167,
     "metadata": {},
     "output_type": "execute_result"
    }
   ],
   "source": [
    "#maxi = vect2with10.max()\n",
    "vect2with10[np.argmax(vect2with10)] = 0\n",
    "vect2with10"
   ]
  },
  {
   "cell_type": "code",
   "execution_count": 111,
   "id": "6aaee19f-a312-412a-98d6-a27ab0ef80a3",
   "metadata": {},
   "outputs": [
    {
     "name": "stdout",
     "output_type": "stream",
     "text": [
      "Help on _ArrayFunctionDispatcher in module numpy:\n",
      "\n",
      "argmax(a, axis=None, out=None, *, keepdims=<no value>)\n",
      "    Returns the indices of the maximum values along an axis.\n",
      "    \n",
      "    Parameters\n",
      "    ----------\n",
      "    a : array_like\n",
      "        Input array.\n",
      "    axis : int, optional\n",
      "        By default, the index is into the flattened array, otherwise\n",
      "        along the specified axis.\n",
      "    out : array, optional\n",
      "        If provided, the result will be inserted into this array. It should\n",
      "        be of the appropriate shape and dtype.\n",
      "    keepdims : bool, optional\n",
      "        If this is set to True, the axes which are reduced are left\n",
      "        in the result as dimensions with size one. With this option,\n",
      "        the result will broadcast correctly against the array.\n",
      "    \n",
      "        .. versionadded:: 1.22.0\n",
      "    \n",
      "    Returns\n",
      "    -------\n",
      "    index_array : ndarray of ints\n",
      "        Array of indices into the array. It has the same shape as `a.shape`\n",
      "        with the dimension along `axis` removed. If `keepdims` is set to True,\n",
      "        then the size of `axis` will be 1 with the resulting array having same\n",
      "        shape as `a.shape`.\n",
      "    \n",
      "    See Also\n",
      "    --------\n",
      "    ndarray.argmax, argmin\n",
      "    amax : The maximum value along a given axis.\n",
      "    unravel_index : Convert a flat index into an index tuple.\n",
      "    take_along_axis : Apply ``np.expand_dims(index_array, axis)``\n",
      "                      from argmax to an array as if by calling max.\n",
      "    \n",
      "    Notes\n",
      "    -----\n",
      "    In case of multiple occurrences of the maximum values, the indices\n",
      "    corresponding to the first occurrence are returned.\n",
      "    \n",
      "    Examples\n",
      "    --------\n",
      "    >>> a = np.arange(6).reshape(2,3) + 10\n",
      "    >>> a\n",
      "    array([[10, 11, 12],\n",
      "           [13, 14, 15]])\n",
      "    >>> np.argmax(a)\n",
      "    5\n",
      "    >>> np.argmax(a, axis=0)\n",
      "    array([1, 1, 1])\n",
      "    >>> np.argmax(a, axis=1)\n",
      "    array([2, 2])\n",
      "    \n",
      "    Indexes of the maximal elements of a N-dimensional array:\n",
      "    \n",
      "    >>> ind = np.unravel_index(np.argmax(a, axis=None), a.shape)\n",
      "    >>> ind\n",
      "    (1, 2)\n",
      "    >>> a[ind]\n",
      "    15\n",
      "    \n",
      "    >>> b = np.arange(6)\n",
      "    >>> b[1] = 5\n",
      "    >>> b\n",
      "    array([0, 5, 2, 3, 4, 5])\n",
      "    >>> np.argmax(b)  # Only the first occurrence is returned.\n",
      "    1\n",
      "    \n",
      "    >>> x = np.array([[4,2,3], [1,0,3]])\n",
      "    >>> index_array = np.argmax(x, axis=-1)\n",
      "    >>> # Same as np.amax(x, axis=-1, keepdims=True)\n",
      "    >>> np.take_along_axis(x, np.expand_dims(index_array, axis=-1), axis=-1)\n",
      "    array([[4],\n",
      "           [3]])\n",
      "    >>> # Same as np.amax(x, axis=-1)\n",
      "    >>> np.take_along_axis(x, np.expand_dims(index_array, axis=-1), axis=-1).squeeze(axis=-1)\n",
      "    array([4, 3])\n",
      "    \n",
      "    Setting `keepdims` to `True`,\n",
      "    \n",
      "    >>> x = np.arange(24).reshape((2, 3, 4))\n",
      "    >>> res = np.argmax(x, axis=1, keepdims=True)\n",
      "    >>> res.shape\n",
      "    (2, 1, 4)\n",
      "\n"
     ]
    }
   ],
   "source": [
    "# 16. Subtract the mean of each row of a matrix (★★☆)"
   ]
  },
  {
   "cell_type": "code",
   "execution_count": null,
   "id": "e1a78876-a3e3-4b09-9d5b-23ea541c8cd0",
   "metadata": {},
   "outputs": [],
   "source": []
  }
 ],
 "metadata": {
  "kernelspec": {
   "display_name": "Python 3 (ipykernel)",
   "language": "python",
   "name": "python3"
  },
  "language_info": {
   "codemirror_mode": {
    "name": "ipython",
    "version": 3
   },
   "file_extension": ".py",
   "mimetype": "text/x-python",
   "name": "python",
   "nbconvert_exporter": "python",
   "pygments_lexer": "ipython3",
   "version": "3.9.20"
  }
 },
 "nbformat": 4,
 "nbformat_minor": 5
}
